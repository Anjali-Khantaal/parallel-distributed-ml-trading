{
 "cells": [
  {
   "cell_type": "code",
   "execution_count": 1,
   "id": "26a832c2-b9d0-41e1-85f6-82713cc39982",
   "metadata": {
    "scrolled": true
   },
   "outputs": [],
   "source": [
    "import backtrader as bt\n",
    "import pandas as pd\n",
    "import numpy as np\n",
    "import joblib\n",
    "import dask\n",
    "from dask import delayed, compute\n",
    "from dask.distributed import Client\n",
    "import matplotlib.pyplot as plt\n",
    "import os\n",
    "import sys\n",
    "sys.path.append(os.path.abspath(\"../src\"))\n",
    "from backtesting_utils import *"
   ]
  },
  {
   "cell_type": "code",
   "execution_count": 2,
   "id": "67c1e873-faf0-4d14-b168-2ad29a36e2a1",
   "metadata": {},
   "outputs": [],
   "source": [
    "# Load Models for Multiple Tickers\n",
    "MODEL_PATHS = {\n",
    "    \"AAPL\": \"models/AAPL_improved_random_forest.pkl\",\n",
    "    \"GOOGL\": \"models/GOOGL_improved_random_forest.pkl\",\n",
    "    \"TSLA\": \"models/TSLA_improved_random_forest.pkl\",\n",
    "    \"MSFT\": \"models/MSFT_improved_random_forest.pkl\"\n",
    "}\n",
    "\n",
    "trained_models = {ticker: joblib.load(path) for ticker, path in MODEL_PATHS.items()}"
   ]
  },
  {
   "cell_type": "code",
   "execution_count": 3,
   "id": "fb09a07d-d1fe-4289-bafa-f36e30b90233",
   "metadata": {},
   "outputs": [
    {
     "name": "stdout",
     "output_type": "stream",
     "text": [
      "Dask Dashboard: http://127.0.0.1:8787/status\n"
     ]
    },
    {
     "name": "stderr",
     "output_type": "stream",
     "text": [
      "/Users/anjalikhantaal/Desktop/Work/MBZUAI/pdml/parallel-distributed-ml-trading/venv/lib/python3.12/site-packages/distributed/client.py:3370: UserWarning: Sending large graph of size 32.11 MiB.\n",
      "This may cause some slowdown.\n",
      "Consider loading the data with Dask directly\n",
      " or using futures or delayed objects to embed the data into the graph without repetition.\n",
      "See also https://docs.dask.org/en/stable/best-practices.html#load-data-with-dask for more information.\n",
      "  warnings.warn(\n"
     ]
    },
    {
     "name": "stdout",
     "output_type": "stream",
     "text": [
      "Ticker: AAPL, Final Value: 10171.418966542486, Sharpe Ratio: -4.459065002169047, Max Drawdown: 0.34850107299954813%\n",
      "Ticker: GOOGL, Final Value: 10073.532419438472, Sharpe Ratio: -5.528059723895856, Max Drawdown: 0.5038628819561239%\n",
      "Ticker: TSLA, Final Value: 10199.185332536697, Sharpe Ratio: -1.2551135019255975, Max Drawdown: 1.7909067239694065%\n",
      "Ticker: MSFT, Final Value: 10027.699624308747, Sharpe Ratio: -6.931762941096068, Max Drawdown: 0.49279353987533897%\n"
     ]
    }
   ],
   "source": [
    "# Start Dask Client\n",
    "client = Client()\n",
    "print(\"Dask Dashboard:\", client.dashboard_link)\n",
    "\n",
    "# File paths for datasets\n",
    "DATA_PATHS = {\n",
    "    \"AAPL\": \"processed_data/AAPL_historical_prices_.csv\",\n",
    "    \"GOOGL\": \"processed_data/GOOGL_historical_prices_.csv\",\n",
    "    \"TSLA\": \"processed_data/TSLA_historical_prices_.csv\",\n",
    "    \"MSFT\": \"processed_data/MSFT_historical_prices_.csv\"\n",
    "}\n",
    "\n",
    "# Load datasets\n",
    "datasets = {ticker: delayed(load_data)(path) for ticker, path in DATA_PATHS.items()}\n",
    "\n",
    "# Run parallel backtesting\n",
    "tasks = [\n",
    "    delayed(run_backtest)(datasets[ticker], trained_models[ticker])\n",
    "    for ticker in DATA_PATHS.keys()\n",
    "]\n",
    "\n",
    "backtest_results = compute(*tasks)\n",
    "\n",
    "# Prepare results with ticker info\n",
    "results_with_tickers = [\n",
    "    {\n",
    "        **result,\n",
    "        'ticker': ticker\n",
    "    }\n",
    "    for result, ticker in zip(backtest_results, DATA_PATHS.keys())\n",
    "]\n",
    "\n",
    "# Print results\n",
    "for result in results_with_tickers:\n",
    "    print(\n",
    "        f\"Ticker: {result['ticker']}, Final Value: {result['final_value']}, \"\n",
    "        f\"Sharpe Ratio: {result['sharpe_ratio']}, Max Drawdown: {result['max_drawdown']}%\"\n",
    "    )"
   ]
  },
  {
   "cell_type": "code",
   "execution_count": 4,
   "id": "62b3c640-72f4-4107-bec2-e00247b02b1c",
   "metadata": {},
   "outputs": [
    {
     "data": {
      "image/png": "[encoded data removed]",
      "text/plain": [
       "<Figure size 1000x600 with 1 Axes>"
      ]
     },
     "metadata": {},
     "output_type": "display_data"
    }
   ],
   "source": [
    "# Plot equity curve\n",
    "plot_equity_curve(results_with_tickers)"
   ]
  },
  {
   "cell_type": "code",
   "execution_count": null,
   "id": "536aec3c-4e78-4200-b2ca-7a4b831a6d84",
   "metadata": {},
   "outputs": [],
   "source": []
  }
 ],
 "metadata": {
  "kernelspec": {
   "display_name": "Python 3 (ipykernel)",
   "language": "python",
   "name": "python3"
  },
  "language_info": {
   "codemirror_mode": {
    "name": "ipython",
    "version": 3
   },
   "file_extension": ".py",
   "mimetype": "text/x-python",
   "name": "python",
   "nbconvert_exporter": "python",
   "pygments_lexer": "ipython3",
   "version": "3.12.3"
  }
 },
 "nbformat": 4,
 "nbformat_minor": 5
}
